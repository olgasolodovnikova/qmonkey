{
 "cells": [
  {
   "cell_type": "code",
   "execution_count": null,
   "id": "85ab0fc9-75be-4137-bcab-4431c61bdf42",
   "metadata": {},
   "outputs": [],
   "source": [
    "import strawberryfields as sf\n",
    "print(f'Qmonkey units: {sf.hbar} bananas') "
   ]
  }
 ],
 "metadata": {
  "kernelspec": {
   "display_name": "sciqis",
   "language": "python",
   "name": "sciqis"
  },
  "language_info": {
   "codemirror_mode": {
    "name": "ipython",
    "version": 3
   },
   "file_extension": ".py",
   "mimetype": "text/x-python",
   "name": "python",
   "nbconvert_exporter": "python",
   "pygments_lexer": "ipython3",
   "version": "3.11.3"
  }
 },
 "nbformat": 4,
 "nbformat_minor": 5
}
